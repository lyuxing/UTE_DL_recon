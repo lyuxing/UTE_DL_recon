{
 "cells": [
  {
   "cell_type": "markdown",
   "metadata": {},
   "source": [
    "# data preparision for qMRI and mask segmentation \n",
    "## env:DL_recon\n",
    "## Version:  \n",
    "    v0: 20230216\n",
    "## xing lu@ UCSD"
   ]
  },
  {
   "cell_type": "code",
   "execution_count": 1,
   "metadata": {},
   "outputs": [],
   "source": [
    "import pandas as pd\n",
    "import glob2\n",
    "import os\n",
    "import cv2\n",
    "import sys\n",
    "from matplotlib import pylab as plt\n",
    "import numpy as np\n",
    "from tqdm import tqdm\n",
    "import shutil\n",
    "import json\n",
    "import scipy.io as sio\n",
    "import nibabel as nib"
   ]
  },
  {
   "cell_type": "code",
   "execution_count": 2,
   "metadata": {},
   "outputs": [],
   "source": [
    "data_pth = r'/mnt/data2/DLProjects/DL_CSdata_Unet/T1/50'\n",
    "file = glob2.glob(data_pth+'/*.mat')"
   ]
  },
  {
   "cell_type": "code",
   "execution_count": 3,
   "metadata": {},
   "outputs": [
    {
     "data": {
      "text/plain": [
       "20"
      ]
     },
     "execution_count": 3,
     "metadata": {},
     "output_type": "execute_result"
    }
   ],
   "source": [
    "len(file)"
   ]
  },
  {
   "cell_type": "code",
   "execution_count": 4,
   "metadata": {},
   "outputs": [],
   "source": [
    "df = pd.DataFrame({'file_pth':file})"
   ]
  },
  {
   "cell_type": "code",
   "execution_count": 5,
   "metadata": {},
   "outputs": [
    {
     "data": {
      "text/html": [
       "<div>\n",
       "<style scoped>\n",
       "    .dataframe tbody tr th:only-of-type {\n",
       "        vertical-align: middle;\n",
       "    }\n",
       "\n",
       "    .dataframe tbody tr th {\n",
       "        vertical-align: top;\n",
       "    }\n",
       "\n",
       "    .dataframe thead th {\n",
       "        text-align: right;\n",
       "    }\n",
       "</style>\n",
       "<table border=\"1\" class=\"dataframe\">\n",
       "  <thead>\n",
       "    <tr style=\"text-align: right;\">\n",
       "      <th></th>\n",
       "      <th>file_pth</th>\n",
       "    </tr>\n",
       "  </thead>\n",
       "  <tbody>\n",
       "    <tr>\n",
       "      <th>0</th>\n",
       "      <td>/mnt/data2/DLProjects/DL_CSdata_Unet/T1/50/con...</td>\n",
       "    </tr>\n",
       "    <tr>\n",
       "      <th>1</th>\n",
       "      <td>/mnt/data2/DLProjects/DL_CSdata_Unet/T1/50/con...</td>\n",
       "    </tr>\n",
       "    <tr>\n",
       "      <th>2</th>\n",
       "      <td>/mnt/data2/DLProjects/DL_CSdata_Unet/T1/50/con...</td>\n",
       "    </tr>\n",
       "    <tr>\n",
       "      <th>3</th>\n",
       "      <td>/mnt/data2/DLProjects/DL_CSdata_Unet/T1/50/con...</td>\n",
       "    </tr>\n",
       "    <tr>\n",
       "      <th>4</th>\n",
       "      <td>/mnt/data2/DLProjects/DL_CSdata_Unet/T1/50/con...</td>\n",
       "    </tr>\n",
       "  </tbody>\n",
       "</table>\n",
       "</div>"
      ],
      "text/plain": [
       "                                            file_pth\n",
       "0  /mnt/data2/DLProjects/DL_CSdata_Unet/T1/50/con...\n",
       "1  /mnt/data2/DLProjects/DL_CSdata_Unet/T1/50/con...\n",
       "2  /mnt/data2/DLProjects/DL_CSdata_Unet/T1/50/con...\n",
       "3  /mnt/data2/DLProjects/DL_CSdata_Unet/T1/50/con...\n",
       "4  /mnt/data2/DLProjects/DL_CSdata_Unet/T1/50/con..."
      ]
     },
     "execution_count": 5,
     "metadata": {},
     "output_type": "execute_result"
    }
   ],
   "source": [
    "df.head()"
   ]
  },
  {
   "cell_type": "code",
   "execution_count": 6,
   "metadata": {},
   "outputs": [],
   "source": [
    "df['ID'] = df.apply(lambda x:os.path.split(x['file_pth'])[-1].split('_50')[0],axis=1)"
   ]
  },
  {
   "cell_type": "code",
   "execution_count": 7,
   "metadata": {},
   "outputs": [
    {
     "data": {
      "text/html": [
       "<div>\n",
       "<style scoped>\n",
       "    .dataframe tbody tr th:only-of-type {\n",
       "        vertical-align: middle;\n",
       "    }\n",
       "\n",
       "    .dataframe tbody tr th {\n",
       "        vertical-align: top;\n",
       "    }\n",
       "\n",
       "    .dataframe thead th {\n",
       "        text-align: right;\n",
       "    }\n",
       "</style>\n",
       "<table border=\"1\" class=\"dataframe\">\n",
       "  <thead>\n",
       "    <tr style=\"text-align: right;\">\n",
       "      <th></th>\n",
       "      <th>file_pth</th>\n",
       "      <th>ID</th>\n",
       "    </tr>\n",
       "  </thead>\n",
       "  <tbody>\n",
       "    <tr>\n",
       "      <th>0</th>\n",
       "      <td>/mnt/data2/DLProjects/DL_CSdata_Unet/T1/50/con...</td>\n",
       "      <td>conesT1_19_17408</td>\n",
       "    </tr>\n",
       "    <tr>\n",
       "      <th>1</th>\n",
       "      <td>/mnt/data2/DLProjects/DL_CSdata_Unet/T1/50/con...</td>\n",
       "      <td>conesT1_20_06144</td>\n",
       "    </tr>\n",
       "    <tr>\n",
       "      <th>2</th>\n",
       "      <td>/mnt/data2/DLProjects/DL_CSdata_Unet/T1/50/con...</td>\n",
       "      <td>conesT1_20_18944</td>\n",
       "    </tr>\n",
       "    <tr>\n",
       "      <th>3</th>\n",
       "      <td>/mnt/data2/DLProjects/DL_CSdata_Unet/T1/50/con...</td>\n",
       "      <td>conesT1_20_23040</td>\n",
       "    </tr>\n",
       "    <tr>\n",
       "      <th>4</th>\n",
       "      <td>/mnt/data2/DLProjects/DL_CSdata_Unet/T1/50/con...</td>\n",
       "      <td>conesT1_20_25088</td>\n",
       "    </tr>\n",
       "  </tbody>\n",
       "</table>\n",
       "</div>"
      ],
      "text/plain": [
       "                                            file_pth                ID\n",
       "0  /mnt/data2/DLProjects/DL_CSdata_Unet/T1/50/con...  conesT1_19_17408\n",
       "1  /mnt/data2/DLProjects/DL_CSdata_Unet/T1/50/con...  conesT1_20_06144\n",
       "2  /mnt/data2/DLProjects/DL_CSdata_Unet/T1/50/con...  conesT1_20_18944\n",
       "3  /mnt/data2/DLProjects/DL_CSdata_Unet/T1/50/con...  conesT1_20_23040\n",
       "4  /mnt/data2/DLProjects/DL_CSdata_Unet/T1/50/con...  conesT1_20_25088"
      ]
     },
     "execution_count": 7,
     "metadata": {},
     "output_type": "execute_result"
    }
   ],
   "source": [
    "df.head()"
   ]
  },
  {
   "cell_type": "code",
   "execution_count": 8,
   "metadata": {},
   "outputs": [],
   "source": [
    "label_path = r'/mnt/data2/DLProjects/DL_CSdata_Unet/T1/100'"
   ]
  },
  {
   "cell_type": "code",
   "execution_count": 9,
   "metadata": {},
   "outputs": [],
   "source": [
    "df['label_path']=df.apply(lambda x:os.path.join(label_path,x['ID']+'_100.mat'),axis=1)"
   ]
  },
  {
   "cell_type": "code",
   "execution_count": 10,
   "metadata": {},
   "outputs": [
    {
     "data": {
      "text/plain": [
       "'/mnt/data2/DLProjects/DL_CSdata_Unet/T1/100/conesT1_20_06144_100.mat'"
      ]
     },
     "execution_count": 10,
     "metadata": {},
     "output_type": "execute_result"
    }
   ],
   "source": [
    "df['label_path'][1]"
   ]
  },
  {
   "cell_type": "markdown",
   "metadata": {},
   "source": [
    "## image observation"
   ]
  },
  {
   "cell_type": "code",
   "execution_count": 11,
   "metadata": {},
   "outputs": [],
   "source": [
    "example = df['file_pth'][0]"
   ]
  },
  {
   "cell_type": "code",
   "execution_count": 12,
   "metadata": {},
   "outputs": [],
   "source": [
    "test_data=sio.loadmat(example)"
   ]
  },
  {
   "cell_type": "code",
   "execution_count": 13,
   "metadata": {},
   "outputs": [
    {
     "data": {
      "text/plain": [
       "dict_keys(['__header__', '__version__', '__globals__', 'recon_cs', 'img_recon', 'header_full', 'hdr'])"
      ]
     },
     "execution_count": 13,
     "metadata": {},
     "output_type": "execute_result"
    }
   ],
   "source": [
    "test_data.keys()"
   ]
  },
  {
   "cell_type": "code",
   "execution_count": 14,
   "metadata": {
    "scrolled": true
   },
   "outputs": [
    {
     "data": {
      "text/plain": [
       "array([[[ 1416.1782   -661.48505j ,  1145.882    -558.8696j  ,\n",
       "         -1262.1438  -1089.2498j  , ...,  -462.80096 -1889.4313j  ,\n",
       "           333.23187  +601.4374j  ,  1522.5159   +409.16263j ],\n",
       "        [ 1050.7344   -273.4387j  ,   154.65506 -1006.92993j ,\n",
       "          -479.84824  -200.92744j , ...,  -111.589   -2421.1292j  ,\n",
       "          1141.5408   +186.52788j ,   431.363    -490.07224j ],\n",
       "        [ 1248.647    +264.12433j ,  -411.93826 -1926.5089j  ,\n",
       "          -695.0212   -959.4077j  , ...,  1652.7432    -79.84524j ,\n",
       "          1585.4146   -975.387j   ,   574.43744  +582.8401j  ],\n",
       "        ...,\n",
       "        [  287.84277  +278.86795j ,  1057.597     -26.091305j,\n",
       "          1103.4025   +906.38153j , ...,   531.11115  +371.5985j  ,\n",
       "          -632.1141   +415.54065j ,   232.5224   +478.65894j ],\n",
       "        [   55.695744  -86.5904j  ,  1039.2108   -326.04153j ,\n",
       "           822.32056  +904.53204j , ...,  1541.4415   +438.06708j ,\n",
       "          -301.35324   +54.21937j ,  -122.97177   +68.30956j ],\n",
       "        [  181.52513  -338.56262j ,   546.5115   -493.61533j ,\n",
       "           739.976    +138.14613j , ...,  1072.01     +663.7383j  ,\n",
       "           243.35007  +462.4471j  ,  -998.4137   -250.94832j ]],\n",
       "\n",
       "       [[ 1308.3685   -250.83185j ,  -191.83784 -1006.0159j  ,\n",
       "           408.86963   -16.081005j, ...,  1451.3094   -500.09042j ,\n",
       "           137.55513  +305.9792j  ,  1095.8627    +52.774506j],\n",
       "        [ 1619.209    +865.6888j  ,   697.2562  -1442.8531j  ,\n",
       "           -22.943047 -145.35881j , ...,   634.2412  -1974.6444j  ,\n",
       "           569.1209   +622.3543j  ,   414.97128  +103.17384j ],\n",
       "        [ 1683.3752  +1001.35406j ,   702.4244  -1854.0825j  ,\n",
       "          -524.6115   -191.52832j , ...,  1574.7535  -2298.4106j  ,\n",
       "          1128.2643   -231.4974j  ,    13.777546 +395.26868j ],\n",
       "        ...,\n",
       "        [  277.63058  -147.48317j ,   766.3707   +302.18283j ,\n",
       "          1567.6613   +270.27954j , ...,   120.78679  +602.81805j ,\n",
       "          -290.76175  +521.0581j  ,   335.4534   +583.47064j ],\n",
       "        [   66.30572  -446.15762j ,   359.55652   -27.293282j,\n",
       "          1543.7976   +819.1161j  , ...,  1252.546    +510.24738j ,\n",
       "            35.672455 +151.42268j ,   260.29163  +129.16821j ],\n",
       "        [  246.20207  -833.9568j  ,    70.97995  -683.1241j  ,\n",
       "          1844.987    +692.172j   , ...,   938.6978   +470.7819j  ,\n",
       "           613.8369   +406.9992j  ,  -161.0948   -180.82791j ]],\n",
       "\n",
       "       [[  902.9609   -452.24762j ,  -279.188   -1663.4225j  ,\n",
       "          -222.29576  -100.5471j  , ...,   706.0547   -858.6289j  ,\n",
       "            79.57648  +475.61646j ,   562.44244   +12.625452j],\n",
       "        [ 1387.8604   +673.1578j  ,    32.306988-1934.2291j  ,\n",
       "          -858.2444   -468.27502j , ...,   780.2927  -1580.7495j  ,\n",
       "            58.23208  +624.0714j  ,  1058.7672   +559.53485j ],\n",
       "        [ 1666.3838   +897.995j   ,   -28.337238-2386.043j   ,\n",
       "         -1021.7582  -1233.5955j  , ...,  2003.3192  -1733.226j   ,\n",
       "           983.41486  -166.20012j ,    85.85474  +299.71283j ],\n",
       "        ...,\n",
       "        [  309.21326  -107.81028j ,  1111.39      +74.017746j,\n",
       "          1427.3746    -50.538048j, ...,  -255.58264  +353.77j    ,\n",
       "          -152.14842  +821.25836j ,    88.28335  +623.2107j  ],\n",
       "        [  233.5111   -534.8054j  ,   808.8168   -246.8453j  ,\n",
       "          1341.4746   +363.7819j  , ...,   239.30017  +149.3799j  ,\n",
       "           -44.27411  +760.6667j  ,  -110.59336  +282.06293j ],\n",
       "        [  258.85114  -781.23804j ,   199.9337   -556.1738j  ,\n",
       "          1530.7057   +937.2622j  , ...,   586.0331    -77.09601j ,\n",
       "           558.9019   +781.8544j  ,  -125.30558   -10.257673j]],\n",
       "\n",
       "       ...,\n",
       "\n",
       "       [[-1795.4832  -2706.2288j  ,  -189.1691  -1293.6522j  ,\n",
       "          -892.65424 -5095.2314j  , ..., -1797.4357  -7696.9585j  ,\n",
       "          -653.59564 -2972.2266j  ,    57.9457   -850.15186j ],\n",
       "        [ -987.93744 -2691.22j    ,  -390.79135 -3071.646j   ,\n",
       "          1396.9374  -3995.5972j  , ...,  1581.714   -7591.6875j  ,\n",
       "         -2023.5236  -5080.257j   ,  1463.2202  -2230.091j   ],\n",
       "        [  245.20483 -3451.0276j  , -3611.7139  -3991.9136j  ,\n",
       "          2521.0054  -3957.8145j  , ...,  2686.7932  -7089.848j   ,\n",
       "         -3991.7742  -6529.3486j  ,  1676.3207  -3251.0547j  ],\n",
       "        ...,\n",
       "        [  933.0971  +1045.4885j  ,    34.18086  +722.81934j ,\n",
       "           766.98785 +2344.5332j  , ...,   850.7223  +2167.8223j  ,\n",
       "         -1174.3094   +899.3094j  , -1549.6581   -164.53722j ],\n",
       "        [  634.0148   +784.79755j ,   117.13725  +378.61435j ,\n",
       "           998.46967 +1258.2705j  , ...,  1428.2668  +2407.245j   ,\n",
       "          -323.4255  +1515.8337j  , -1190.7484   -129.10678j ],\n",
       "        [ 1455.5782   +386.97403j ,   472.8298   +275.90134j ,\n",
       "           958.11523  +697.95764j , ...,  1187.9673  +3062.709j   ,\n",
       "           425.37042 +1348.8628j  , -2122.412    +733.0731j  ]],\n",
       "\n",
       "       [[-2405.577   -2055.6245j  ,   801.4358   -897.5715j  ,\n",
       "         -1063.9756  -3912.816j   , ..., -1753.4551  -7402.5806j  ,\n",
       "         -1198.9178  -2516.5806j  ,   942.78595  -891.47974j ],\n",
       "        [ -878.74084 -2560.382j   ,  -719.5429  -3778.0974j  ,\n",
       "           865.55914 -4710.3867j  , ...,  1566.5336  -6884.3145j  ,\n",
       "         -2229.5627  -4185.6807j  ,  1306.9097  -1661.0922j  ],\n",
       "        [  985.66986 -3258.275j   , -4587.955   -4577.0815j  ,\n",
       "          2007.8235  -3709.3867j  , ...,  1977.2792  -7109.5225j  ,\n",
       "         -3227.2627  -4996.5674j  ,  1131.9773  -2530.4478j  ],\n",
       "        ...,\n",
       "        [  885.70795  +985.66034j ,   127.50883  +429.6948j  ,\n",
       "           955.7734  +1995.3278j  , ...,   927.60864 +1958.5095j  ,\n",
       "          -277.13757  +902.56j    , -1277.1467    -46.126747j],\n",
       "        [  501.24182  +692.8894j  ,   194.08104  +367.0238j  ,\n",
       "          1380.4976  +1368.3184j  , ...,  1497.3221  +1995.0409j  ,\n",
       "          -231.46233 +1294.2288j  , -1016.8141   +514.4095j  ],\n",
       "        [  820.7283   +778.1336j  ,   177.99669  +371.57062j ,\n",
       "           832.8015   +565.91516j , ...,   864.768   +3058.1726j  ,\n",
       "           385.6043  +1191.2834j  , -2011.1616   +630.6598j  ]],\n",
       "\n",
       "       [[-2604.4375  -1271.4052j  ,  2711.6252   -199.26433j ,\n",
       "         -4495.3047  -3412.2405j  , ..., -3178.8562  -7600.041j   ,\n",
       "         -1151.9471  -3330.1658j  ,  2714.7043   -521.23926j ],\n",
       "        [ -287.95605 -2056.9033j  ,  -161.47154 -3722.8345j  ,\n",
       "         -2154.3442  -5368.4263j  , ...,  1180.9336  -7409.6567j  ,\n",
       "         -2525.582   -4797.6006j  ,   654.6316  -2101.1907j  ],\n",
       "        [ 1946.9515  -3219.5203j  , -6055.211   -5558.888j   ,\n",
       "          1808.866   -4344.46j    , ...,  3021.684   -8847.325j   ,\n",
       "         -5515.8096  -6096.5605j  ,  1017.90344 -3336.7556j  ],\n",
       "        ...,\n",
       "        [  998.33636  +771.57916j ,   212.00838  +391.63013j ,\n",
       "           975.31104 +1592.1783j  , ...,  1223.5913  +1730.1722j  ,\n",
       "          -276.93747  +887.88025j ,  -984.6032   +221.74124j ],\n",
       "        [  600.2161   +724.165j   ,   464.51904  +507.94778j ,\n",
       "          1062.6205   +795.23175j , ...,  1183.0243  +1881.0463j  ,\n",
       "            24.613592 +983.6147j  , -1118.6442   +708.53644j ],\n",
       "        [ 1081.8389   +984.6269j  ,   530.9323   +461.39276j ,\n",
       "          -188.52426   -53.935093j, ...,   401.8985  +3075.1343j  ,\n",
       "           528.96423  +907.89655j , -1621.5981   +569.2475j  ]]],\n",
       "      dtype=complex64)"
      ]
     },
     "execution_count": 14,
     "metadata": {},
     "output_type": "execute_result"
    }
   ],
   "source": [
    "test_data['recon_cs']"
   ]
  },
  {
   "cell_type": "code",
   "execution_count": 15,
   "metadata": {
    "scrolled": true
   },
   "outputs": [
    {
     "data": {
      "text/plain": [
       "(256, 256, 32)"
      ]
     },
     "execution_count": 15,
     "metadata": {},
     "output_type": "execute_result"
    }
   ],
   "source": [
    "test_data['img_recon'].shape"
   ]
  },
  {
   "cell_type": "code",
   "execution_count": 24,
   "metadata": {
    "scrolled": true
   },
   "outputs": [
    {
     "name": "stderr",
     "output_type": "stream",
     "text": [
      "\r",
      "  0%|          | 0/32 [00:00<?, ?it/s]"
     ]
    },
    {
     "name": "stdout",
     "output_type": "stream",
     "text": [
      "(256, 256, 32)\n",
      "file id, x,y,z =  conesT1_19_17408 256 256 32\n"
     ]
    },
    {
     "name": "stderr",
     "output_type": "stream",
     "text": [
      "100%|██████████| 32/32 [00:00<00:00, 159.30it/s]\n",
      "  0%|          | 0/32 [00:00<?, ?it/s]"
     ]
    },
    {
     "name": "stdout",
     "output_type": "stream",
     "text": [
      "(256, 256, 32)\n",
      "file id, x,y,z =  conesT1_20_06144 256 256 32\n"
     ]
    },
    {
     "name": "stderr",
     "output_type": "stream",
     "text": [
      "100%|██████████| 32/32 [00:00<00:00, 167.16it/s]\n",
      "  0%|          | 0/32 [00:00<?, ?it/s]"
     ]
    },
    {
     "name": "stdout",
     "output_type": "stream",
     "text": [
      "(256, 256, 32)\n",
      "file id, x,y,z =  conesT1_20_18944 256 256 32\n"
     ]
    },
    {
     "name": "stderr",
     "output_type": "stream",
     "text": [
      "100%|██████████| 32/32 [00:00<00:00, 163.78it/s]\n",
      "  0%|          | 0/32 [00:00<?, ?it/s]"
     ]
    },
    {
     "name": "stdout",
     "output_type": "stream",
     "text": [
      "(256, 256, 32)\n",
      "file id, x,y,z =  conesT1_20_23040 256 256 32\n"
     ]
    },
    {
     "name": "stderr",
     "output_type": "stream",
     "text": [
      "100%|██████████| 32/32 [00:00<00:00, 162.81it/s]\n",
      "  0%|          | 0/32 [00:00<?, ?it/s]"
     ]
    },
    {
     "name": "stdout",
     "output_type": "stream",
     "text": [
      "(256, 256, 32)\n",
      "file id, x,y,z =  conesT1_20_25088 256 256 32\n"
     ]
    },
    {
     "name": "stderr",
     "output_type": "stream",
     "text": [
      "100%|██████████| 32/32 [00:00<00:00, 165.25it/s]\n",
      "  0%|          | 0/32 [00:00<?, ?it/s]"
     ]
    },
    {
     "name": "stdout",
     "output_type": "stream",
     "text": [
      "(256, 256, 32)\n",
      "file id, x,y,z =  conesT1_20_34304 256 256 32\n"
     ]
    },
    {
     "name": "stderr",
     "output_type": "stream",
     "text": [
      "100%|██████████| 32/32 [00:00<00:00, 162.79it/s]\n",
      "  0%|          | 0/32 [00:00<?, ?it/s]"
     ]
    },
    {
     "name": "stdout",
     "output_type": "stream",
     "text": [
      "(256, 256, 32)\n",
      "file id, x,y,z =  conesT1_20_37376 256 256 32\n"
     ]
    },
    {
     "name": "stderr",
     "output_type": "stream",
     "text": [
      "100%|██████████| 32/32 [00:00<00:00, 161.60it/s]\n",
      "  0%|          | 0/32 [00:00<?, ?it/s]"
     ]
    },
    {
     "name": "stdout",
     "output_type": "stream",
     "text": [
      "(256, 256, 32)\n",
      "file id, x,y,z =  conesT1_20_49152 256 256 32\n"
     ]
    },
    {
     "name": "stderr",
     "output_type": "stream",
     "text": [
      "100%|██████████| 32/32 [00:00<00:00, 161.49it/s]\n",
      "  0%|          | 0/32 [00:00<?, ?it/s]"
     ]
    },
    {
     "name": "stdout",
     "output_type": "stream",
     "text": [
      "(256, 256, 32)\n",
      "file id, x,y,z =  conesT1_20_51712 256 256 32\n"
     ]
    },
    {
     "name": "stderr",
     "output_type": "stream",
     "text": [
      "100%|██████████| 32/32 [00:00<00:00, 163.31it/s]\n",
      "  0%|          | 0/32 [00:00<?, ?it/s]"
     ]
    },
    {
     "name": "stdout",
     "output_type": "stream",
     "text": [
      "(256, 256, 32)\n",
      "file id, x,y,z =  conesT1_20_55808 256 256 32\n"
     ]
    },
    {
     "name": "stderr",
     "output_type": "stream",
     "text": [
      "100%|██████████| 32/32 [00:00<00:00, 165.40it/s]\n",
      "  0%|          | 0/32 [00:00<?, ?it/s]"
     ]
    },
    {
     "name": "stdout",
     "output_type": "stream",
     "text": [
      "(256, 256, 32)\n",
      "file id, x,y,z =  conesT1_20_65024 256 256 32\n"
     ]
    },
    {
     "name": "stderr",
     "output_type": "stream",
     "text": [
      "100%|██████████| 32/32 [00:00<00:00, 162.47it/s]\n",
      "  0%|          | 0/32 [00:00<?, ?it/s]"
     ]
    },
    {
     "name": "stdout",
     "output_type": "stream",
     "text": [
      "(256, 256, 32)\n",
      "file id, x,y,z =  conesT1_20_66560 256 256 32\n"
     ]
    },
    {
     "name": "stderr",
     "output_type": "stream",
     "text": [
      "100%|██████████| 32/32 [00:00<00:00, 160.49it/s]\n",
      "  0%|          | 0/32 [00:00<?, ?it/s]"
     ]
    },
    {
     "name": "stdout",
     "output_type": "stream",
     "text": [
      "(256, 256, 32)\n",
      "file id, x,y,z =  conesT1_20_70144 256 256 32\n"
     ]
    },
    {
     "name": "stderr",
     "output_type": "stream",
     "text": [
      "100%|██████████| 32/32 [00:00<00:00, 163.77it/s]\n",
      "  0%|          | 0/32 [00:00<?, ?it/s]"
     ]
    },
    {
     "name": "stdout",
     "output_type": "stream",
     "text": [
      "(256, 256, 32)\n",
      "file id, x,y,z =  conesT1_20_78848 256 256 32\n"
     ]
    },
    {
     "name": "stderr",
     "output_type": "stream",
     "text": [
      "100%|██████████| 32/32 [00:00<00:00, 156.19it/s]\n",
      "  0%|          | 0/32 [00:00<?, ?it/s]"
     ]
    },
    {
     "name": "stdout",
     "output_type": "stream",
     "text": [
      "(256, 256, 32)\n",
      "file id, x,y,z =  conesT1_20_87552 256 256 32\n"
     ]
    },
    {
     "name": "stderr",
     "output_type": "stream",
     "text": [
      "100%|██████████| 32/32 [00:00<00:00, 161.91it/s]\n",
      "  0%|          | 0/32 [00:00<?, ?it/s]"
     ]
    },
    {
     "name": "stdout",
     "output_type": "stream",
     "text": [
      "(256, 256, 32)\n",
      "file id, x,y,z =  conesT1_20_89088 256 256 32\n"
     ]
    },
    {
     "name": "stderr",
     "output_type": "stream",
     "text": [
      "100%|██████████| 32/32 [00:00<00:00, 164.80it/s]\n",
      "  0%|          | 0/32 [00:00<?, ?it/s]"
     ]
    },
    {
     "name": "stdout",
     "output_type": "stream",
     "text": [
      "(256, 256, 32)\n",
      "file id, x,y,z =  conesT1_20_90112 256 256 32\n"
     ]
    },
    {
     "name": "stderr",
     "output_type": "stream",
     "text": [
      "100%|██████████| 32/32 [00:00<00:00, 164.54it/s]\n",
      "  0%|          | 0/32 [00:00<?, ?it/s]"
     ]
    },
    {
     "name": "stdout",
     "output_type": "stream",
     "text": [
      "(256, 256, 32)\n",
      "file id, x,y,z =  conesT1_20_92672 256 256 32\n"
     ]
    },
    {
     "name": "stderr",
     "output_type": "stream",
     "text": [
      "100%|██████████| 32/32 [00:00<00:00, 170.03it/s]\n",
      "  0%|          | 0/32 [00:00<?, ?it/s]"
     ]
    },
    {
     "name": "stdout",
     "output_type": "stream",
     "text": [
      "(256, 256, 32)\n",
      "file id, x,y,z =  conesT1_20_96768 256 256 32\n"
     ]
    },
    {
     "name": "stderr",
     "output_type": "stream",
     "text": [
      "100%|██████████| 32/32 [00:00<00:00, 163.59it/s]\n",
      "  0%|          | 0/32 [00:00<?, ?it/s]"
     ]
    },
    {
     "name": "stdout",
     "output_type": "stream",
     "text": [
      "(256, 256, 32)\n",
      "file id, x,y,z =  conesT1_20_97280 256 256 32\n"
     ]
    },
    {
     "name": "stderr",
     "output_type": "stream",
     "text": [
      "100%|██████████| 32/32 [00:00<00:00, 164.62it/s]\n"
     ]
    }
   ],
   "source": [
    "data_pth_lst = []\n",
    "ID_lst = []\n",
    "image_ID_lst = []\n",
    "image_pth_lst = []\n",
    "\n",
    "\n",
    "data_split_base = r'/mnt/data2/DLProjects/DL_CSdata_Unet/data_prepare'\n",
    "\n",
    "if not os.path.exists(data_split_base):\n",
    "    os.makedirs(data_split_base)\n",
    "\n",
    "for idx,pth in enumerate(df['file_pth']):\n",
    "    data = sio.loadmat(pth)['img_recon']\n",
    "    print(data.shape)\n",
    "    \n",
    "    label = sio.loadmat(df.iloc[idx]['label_path'])['img_recon']\n",
    "    \n",
    "    data_id = df.iloc[idx]['ID']\n",
    "    \n",
    "    x,y,z = data.shape\n",
    "    \n",
    "    print('file id, x,y,z = ', data_id,x,y,z)\n",
    "    \n",
    "    for i in tqdm(range(z)):\n",
    "        \n",
    "        image_id = data_id +'_'+ str(i)\n",
    "        image_pth = os.path.join(data_split_base, image_id  + '.mat')\n",
    "        data_split = data[:,:,i]\n",
    "        label_split = label[:,:,i]\n",
    "        \n",
    "#         print(image_pth)\n",
    "        \n",
    "        sio.savemat(image_pth,{'recon':data_split,\n",
    "                               'label':label_split,\n",
    "                               'recon_factor':50})\n",
    "        \n",
    "        image_ID_lst.append(image_id)\n",
    "        image_pth_lst.append(image_pth)\n",
    "        \n",
    "        data_pth_lst.append(pth)\n",
    "        ID_lst.append(data_id)"
   ]
  },
  {
   "cell_type": "code",
   "execution_count": 17,
   "metadata": {},
   "outputs": [],
   "source": [
    "image_df = pd.DataFrame({\n",
    "    'ID':ID_lst,\n",
    "    'data_pth':data_pth_lst,\n",
    "    'image_ID':image_ID_lst,\n",
    "    'image_pth':image_pth_lst\n",
    "})\n"
   ]
  },
  {
   "cell_type": "code",
   "execution_count": 5,
   "metadata": {},
   "outputs": [],
   "source": [
    "select_set = ['conesT1_20_18944', 'conesT1_20_65024']  # select the Pid that to be valid"
   ]
  },
  {
   "cell_type": "code",
   "execution_count": 4,
   "metadata": {},
   "outputs": [
    {
     "ename": "NameError",
     "evalue": "name 'image_df' is not defined",
     "output_type": "error",
     "traceback": [
      "\u001b[0;31m---------------------------------------------------------------------------\u001b[0m",
      "\u001b[0;31mNameError\u001b[0m                                 Traceback (most recent call last)",
      "\u001b[0;32m<ipython-input-4-4026c4dd2fa5>\u001b[0m in \u001b[0;36m<module>\u001b[0;34m\u001b[0m\n\u001b[0;32m----> 1\u001b[0;31m \u001b[0mimage_df\u001b[0m\u001b[0;34m[\u001b[0m\u001b[0;34m'valid'\u001b[0m\u001b[0;34m]\u001b[0m\u001b[0;34m=\u001b[0m\u001b[0mimage_df\u001b[0m\u001b[0;34m.\u001b[0m\u001b[0mapply\u001b[0m\u001b[0;34m(\u001b[0m\u001b[0;32mlambda\u001b[0m \u001b[0mx\u001b[0m\u001b[0;34m:\u001b[0m \u001b[0;36m1\u001b[0m \u001b[0;32mif\u001b[0m \u001b[0mx\u001b[0m\u001b[0;34m[\u001b[0m\u001b[0;34m'ID'\u001b[0m\u001b[0;34m]\u001b[0m \u001b[0;32min\u001b[0m \u001b[0mset\u001b[0m\u001b[0;34m(\u001b[0m\u001b[0mselect_set\u001b[0m\u001b[0;34m)\u001b[0m \u001b[0;32melse\u001b[0m \u001b[0;36m0\u001b[0m\u001b[0;34m,\u001b[0m \u001b[0maxis\u001b[0m \u001b[0;34m=\u001b[0m\u001b[0;36m1\u001b[0m\u001b[0;34m)\u001b[0m\u001b[0;34m\u001b[0m\u001b[0;34m\u001b[0m\u001b[0m\n\u001b[0m\u001b[1;32m      2\u001b[0m \u001b[0;34m\u001b[0m\u001b[0m\n\u001b[1;32m      3\u001b[0m \u001b[0mimage_df\u001b[0m\u001b[0;34m.\u001b[0m\u001b[0mvalid\u001b[0m\u001b[0;34m.\u001b[0m\u001b[0mhist\u001b[0m\u001b[0;34m(\u001b[0m\u001b[0;34m)\u001b[0m\u001b[0;34m\u001b[0m\u001b[0;34m\u001b[0m\u001b[0m\n\u001b[1;32m      4\u001b[0m \u001b[0;34m\u001b[0m\u001b[0m\n\u001b[1;32m      5\u001b[0m \u001b[0mimage_df\u001b[0m\u001b[0;34m.\u001b[0m\u001b[0mhead\u001b[0m\u001b[0;34m(\u001b[0m\u001b[0;34m)\u001b[0m\u001b[0;34m\u001b[0m\u001b[0;34m\u001b[0m\u001b[0m\n",
      "\u001b[0;31mNameError\u001b[0m: name 'image_df' is not defined"
     ]
    }
   ],
   "source": [
    "image_df['valid']=image_df.apply(lambda x: 1 if x['ID'] in set(select_set) else 0, axis =1)\n",
    "\n",
    "image_df.valid.hist()\n",
    "\n",
    "image_df.head()"
   ]
  },
  {
   "cell_type": "code",
   "execution_count": 21,
   "metadata": {},
   "outputs": [],
   "source": [
    "image_df.to_csv('UTE_DLrecon_50.csv')"
   ]
  },
  {
   "cell_type": "code",
   "execution_count": 23,
   "metadata": {},
   "outputs": [
    {
     "data": {
      "text/plain": [
       "'/mnt/data2/DLProjects/DL_CSdata_Unet/data_prepare/conesT1_19_17408_1.mat'"
      ]
     },
     "execution_count": 23,
     "metadata": {},
     "output_type": "execute_result"
    }
   ],
   "source": [
    "image_df.iloc[1]['image_pth']"
   ]
  },
  {
   "cell_type": "code",
   "execution_count": null,
   "metadata": {},
   "outputs": [],
   "source": []
  }
 ],
 "metadata": {
  "kernelspec": {
   "display_name": "fastai",
   "language": "python",
   "name": "fastai"
  },
  "language_info": {
   "codemirror_mode": {
    "name": "ipython",
    "version": 3
   },
   "file_extension": ".py",
   "mimetype": "text/x-python",
   "name": "python",
   "nbconvert_exporter": "python",
   "pygments_lexer": "ipython3",
   "version": "3.7.10"
  },
  "toc": {
   "base_numbering": 1,
   "nav_menu": {},
   "number_sections": true,
   "sideBar": true,
   "skip_h1_title": false,
   "title_cell": "Table of Contents",
   "title_sidebar": "Contents",
   "toc_cell": false,
   "toc_position": {},
   "toc_section_display": true,
   "toc_window_display": true
  }
 },
 "nbformat": 4,
 "nbformat_minor": 4
}
